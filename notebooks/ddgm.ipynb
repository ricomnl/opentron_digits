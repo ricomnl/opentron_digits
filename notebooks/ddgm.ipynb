{
 "cells": [
  {
   "cell_type": "markdown",
   "metadata": {},
   "source": [
    "# Opentrons Digits\n",
    "\n",
    "Inspired by: https://github.com/jmtomczak/intro_dgm/blob/main/ddgms/ddgm_example.ipynb"
   ]
  },
  {
   "cell_type": "code",
   "execution_count": 16,
   "metadata": {},
   "outputs": [],
   "source": [
    "import os\n",
    "from pathlib import Path\n",
    "\n",
    "import numpy as np\n",
    "import matplotlib.pyplot as plt\n",
    "import torch\n",
    "from sklearn.datasets import load_digits\n",
    "from sklearn import datasets\n",
    "from torch.utils.data import Dataset, DataLoader\n",
    "import torch.nn as nn\n",
    "import torch.nn.functional as F\n",
    "import torchvision.transforms as tt"
   ]
  },
  {
   "cell_type": "code",
   "execution_count": 22,
   "metadata": {},
   "outputs": [],
   "source": [
    "RESULTS_DIR = Path().resolve().parent.joinpath(\"results\")"
   ]
  },
  {
   "cell_type": "markdown",
   "metadata": {},
   "source": [
    "## Dataset\n",
    "The Opentron exercise is done on 96-well plates and it just so happens that the images in the scikit-learn digits so the images dataset are 8x8.\n",
    "There are ~1500 images to train on and each pixel can take values in {0,1,...,16}."
   ]
  },
  {
   "cell_type": "code",
   "execution_count": 80,
   "metadata": {},
   "outputs": [],
   "source": [
    "class Digits(Dataset):\n",
    "    \"\"\"Scikit-Learn Digits dataset.\"\"\"\n",
    "\n",
    "    def __init__(self, mode=\"train\", transforms=None):\n",
    "        digits = load_digits()\n",
    "        # We only have 4 colors so we divide each pixel by 4 to end up with 4 values\n",
    "        data = digits.data // 4\n",
    "        if mode == \"train\":\n",
    "            self.data = data[:1000].astype(np.float32)\n",
    "        elif mode == \"val\":\n",
    "            self.data = data[1000:1350].astype(np.float32)\n",
    "        else:\n",
    "            self.data = data[1350:].astype(np.float32)\n",
    "\n",
    "        self.transforms = transforms\n",
    "\n",
    "    def __len__(self):\n",
    "        return len(self.data)\n",
    "\n",
    "    def __getitem__(self, idx):\n",
    "        sample = self.data[idx]\n",
    "        if self.transforms:\n",
    "            sample = self.transforms(sample)\n",
    "        return sample"
   ]
  },
  {
   "cell_type": "markdown",
   "metadata": {},
   "source": [
    "## Auxiliary functions and classes"
   ]
  },
  {
   "cell_type": "code",
   "execution_count": 81,
   "metadata": {},
   "outputs": [],
   "source": [
    "PI = torch.from_numpy(np.asarray(np.pi))\n",
    "EPS = 1.e-7\n",
    "\n",
    "def log_categorical(x, p, num_classes=256, reduction=None, dim=None):\n",
    "    x_one_hot = F.one_hot(x.long(), num_classes=num_classes)\n",
    "    log_p = x_one_hot * torch.log(torch.clamp(p, EPS, 1. - EPS))\n",
    "    if reduction == \"avg\":\n",
    "        return torch.mean(log_p, dim)\n",
    "    elif reduction == \"sum\":\n",
    "        return torch.sum(log_p, dim)\n",
    "    else:\n",
    "        return log_p\n",
    "    \n",
    "def log_bernoulli(x, p, reduction=None, dim=None):\n",
    "    pp = torch.clamp(p, EPS, 1. - EPS)\n",
    "    log_p = x * torch.log(pp) + (1. - x) * torch.log(1. - pp)\n",
    "    if reduction == \"avg\":\n",
    "        return torch.mean(log_p, dim)\n",
    "    elif reduction == \"sum\":\n",
    "        return torch.sum(log_p, dim)\n",
    "    else:\n",
    "        return log_p\n",
    "\n",
    "def log_normal_diag(x, mu, log_var, reduction=None, dim=None):\n",
    "    log_p = -0.5 * torch.log(2. * PI) - 0.5 * log_var - 0.5 * torch.exp(-log_var) * (x - mu)**2.\n",
    "    if reduction == \"avg\":\n",
    "        return torch.mean(log_p, dim)\n",
    "    elif reduction == \"sum\":\n",
    "        return torch.sum(log_p, dim)\n",
    "    else:\n",
    "        return log_p\n",
    "\n",
    "def log_standard_normal(x, reduction=None, dim=None):\n",
    "    log_p = -0.5 * torch.log(2. * PI) - 0.5 * x**2.\n",
    "    if reduction == \"avg\":\n",
    "        return torch.mean(log_p, dim)\n",
    "    elif reduction == \"sum\":\n",
    "        return torch.sum(log_p, dim)\n",
    "    else:\n",
    "        return log_p\n",
    "\n",
    "# Chakraborty & Chakravarty, \"A new discrete probability distribution with integer support on (−∞, ∞)\",\n",
    "# Communications in Statistics - Theory and Methods, 45:2, 492-505, DOI: 10.1080/03610926.2013.830743\n",
    "\n",
    "def log_min_exp(a, b, epsilon=1e-8):\n",
    "    \"\"\"\n",
    "    Source: https://github.com/jornpeters/integer_discrete_flows\n",
    "    Computes the log of exp(a) - exp(b) in a (more) numerically stable fashion.\n",
    "    Using:\n",
    "    log(exp(a) - exp(b))\n",
    "    c + log(exp(a-c) - exp(b-c))\n",
    "    a + log(1 - exp(b-a))\n",
    "    And note that we assume b < a always.\n",
    "    \"\"\"\n",
    "    y = a + torch.log(1 - torch.exp(b - a) + epsilon)\n",
    "\n",
    "    return y\n",
    "\n",
    "def log_integer_probability(x, mean, logscale):\n",
    "    scale = torch.exp(logscale)\n",
    "\n",
    "    logp = log_min_exp(\n",
    "      F.logsigmoid((x + 0.5 - mean) / scale),\n",
    "      F.logsigmoid((x - 0.5 - mean) / scale))\n",
    "\n",
    "    return logp\n",
    "\n",
    "def log_integer_probability_standard(x):\n",
    "    logp = log_min_exp(\n",
    "      F.logsigmoid(x + 0.5),\n",
    "      F.logsigmoid(x - 0.5))\n",
    "\n",
    "    return logp"
   ]
  },
  {
   "cell_type": "markdown",
   "metadata": {},
   "source": [
    "## Diffusion-based Deep Generative Model"
   ]
  },
  {
   "cell_type": "code",
   "execution_count": 82,
   "metadata": {},
   "outputs": [],
   "source": [
    "class DDGM(nn.Module):\n",
    "    def __init__(self, p_dnns, decoder_net, beta, T, D):\n",
    "        super(DDGM, self).__init__()\n",
    "        self.p_dnns = p_dnns  # a list of sequentials\n",
    "        self.decoder_net = decoder_net\n",
    "        # other params\n",
    "        self.D = D\n",
    "        self.T = T\n",
    "        self.beta = torch.FloatTensor([beta])\n",
    "\n",
    "    @staticmethod\n",
    "    def reparameterization(mu, log_var):\n",
    "        std = torch.exp(0.5*log_var)\n",
    "        eps = torch.randn_like(std)\n",
    "        return mu + std * eps\n",
    "\n",
    "    def reparameterization_gaussian_diffusion(self, x, i):\n",
    "        return torch.sqrt(1. - self.beta) * x + torch.sqrt(self.beta) * torch.randn_like(x)\n",
    "\n",
    "    def forward(self, x, reduction=\"avg\"):\n",
    "        # forward difussion\n",
    "        zs = [self.reparameterization_gaussian_diffusion(x, 0)]\n",
    "        for i in range(1, self.T):\n",
    "            zs.append(self.reparameterization_gaussian_diffusion(zs[-1], i))\n",
    "        # backward diffusion\n",
    "        mus = []\n",
    "        log_vars = []\n",
    "        for i in range(len(self.p_dnns) - 1, -1, -1):\n",
    "            h = self.p_dnns[i](zs[i+1])\n",
    "            mu_i, log_var_i = torch.chunk(h, 2, dim=1)\n",
    "            mus.append(mu_i)\n",
    "            log_vars.append(log_var_i)\n",
    "        mu_x = self.decoder_net(zs[0])\n",
    "        # RE\n",
    "        RE = log_standard_normal(x - mu_x).sum(-1)\n",
    "        # KL\n",
    "        KL = (log_normal_diag(zs[-1], torch.sqrt(1. - self.beta) * zs[-1], torch.log(self.beta)) - log_standard_normal(zs[-1])).sum(-1)\n",
    "        for i in range(len(mus)):\n",
    "            KL_i = (log_normal_diag(zs[i], torch.sqrt(1. - self.beta) * zs[i], torch.log(self.beta)) - log_normal_diag(zs[i], mus[i], log_vars[i])).sum(-1)\n",
    "            KL = KL + KL_i\n",
    "        if reduction == \"sum\":\n",
    "            loss = -(RE - KL).sum()\n",
    "        else:\n",
    "            loss = -(RE - KL).mean()\n",
    "        return loss\n",
    "\n",
    "    def sample(self, batch_size=64):\n",
    "        z = torch.randn([batch_size, self.D])\n",
    "        for i in range(len(self.p_dnns) - 1, -1, -1):\n",
    "            h = self.p_dnns[i](z)\n",
    "            mu_i, log_var_i = torch.chunk(h, 2, dim=1)\n",
    "            z = self.reparameterization(torch.tanh(mu_i), log_var_i)\n",
    "        mu_x = self.decoder_net(z)\n",
    "        return mu_x\n",
    "\n",
    "    def sample_diffusion(self, x):\n",
    "        zs = [self.reparameterization_gaussian_diffusion(x, 0)]\n",
    "        for i in range(1, self.T):\n",
    "            zs.append(self.reparameterization_gaussian_diffusion(zs[-1], i))\n",
    "        return zs[-1]"
   ]
  },
  {
   "cell_type": "markdown",
   "metadata": {},
   "source": [
    "## Evaluation and Training functions"
   ]
  },
  {
   "cell_type": "code",
   "execution_count": 83,
   "metadata": {},
   "outputs": [],
   "source": [
    "def evaluation(test_loader, name=None, model_best=None, epoch=None):\n",
    "    # EVALUATION\n",
    "    if model_best is None:\n",
    "        # load best performing model\n",
    "        model_best = torch.load(name + \".model\")\n",
    "\n",
    "    model_best.eval()\n",
    "    loss = 0.\n",
    "    N = 0.\n",
    "    for indx_batch, test_batch in enumerate(test_loader):\n",
    "        loss_t = model_best.forward(test_batch, reduction=\"sum\")\n",
    "        loss = loss + loss_t.item()\n",
    "        N = N + test_batch.shape[0]\n",
    "    loss = loss / N\n",
    "\n",
    "    if epoch is None:\n",
    "        print(f\"FINAL LOSS: nll={loss}\")\n",
    "    else:\n",
    "        print(f\"Epoch: {epoch}, val nll={loss}\")\n",
    "\n",
    "    return loss\n",
    "\n",
    "\n",
    "def samples_real(name, test_loader):\n",
    "    # REAL-------\n",
    "    num_x = 4\n",
    "    num_y = 4\n",
    "    x = next(iter(test_loader)).detach().numpy()\n",
    "    fig, ax = plt.subplots(num_x, num_y)\n",
    "    for i, ax in enumerate(ax.flatten()):\n",
    "        plottable_image = np.reshape(x[i], (8, 8))\n",
    "        ax.imshow(plottable_image, cmap=\"gray\")\n",
    "        ax.axis(\"off\")\n",
    "    plt.savefig(name+\"_real_images.pdf\", bbox_inches=\"tight\")\n",
    "    plt.show()\n",
    "    \n",
    "\n",
    "def samples_generated(name, data_loader, extra_name=\"\"):\n",
    "    # GENERATIONS-------\n",
    "    model_best = torch.load(name + \".model\")\n",
    "    model_best.eval()\n",
    "    num_x = 4\n",
    "    num_y = 4\n",
    "    x = model_best.sample(batch_size=num_x * num_y)\n",
    "    x = x.detach().numpy()\n",
    "    fig, ax = plt.subplots(num_x, num_y)\n",
    "    for i, ax in enumerate(ax.flatten()):\n",
    "        plottable_image = np.reshape(x[i], (8, 8))\n",
    "        ax.imshow(plottable_image, cmap=\"gray\")\n",
    "        ax.axis(\"off\")\n",
    "    plt.savefig(name + \"_generated_images\" + extra_name + \".pdf\", bbox_inches=\"tight\")\n",
    "    plt.show()\n",
    "    \n",
    "\n",
    "def samples_diffusion(name, data_loader, extra_name=\"\"):\n",
    "    x = next(iter(data_loader))\n",
    "    # GENERATIONS-------\n",
    "    model_best = torch.load(name + \".model\")\n",
    "    model_best.eval()\n",
    "    num_x = 4\n",
    "    num_y = 4\n",
    "    z = model_best.sample_diffusion(x)\n",
    "    z = z.detach().numpy()\n",
    "    fig, ax = plt.subplots(num_x, num_y)\n",
    "    for i, ax in enumerate(ax.flatten()):\n",
    "        plottable_image = np.reshape(z[i], (8, 8))\n",
    "        ax.imshow(plottable_image, cmap=\"gray\")\n",
    "        ax.axis(\"off\")\n",
    "    plt.savefig(name + \"_generated_diffusion\" + extra_name + \".pdf\", bbox_inches=\"tight\")\n",
    "    plt.show()\n",
    "    \n",
    "\n",
    "def plot_curve(name, nll_val):\n",
    "    plt.plot(np.arange(len(nll_val)), nll_val, linewidth=\"3\")\n",
    "    plt.xlabel(\"epochs\")\n",
    "    plt.ylabel(\"nll\")\n",
    "    plt.savefig(name + \"_nll_val_curve.pdf\", bbox_inches=\"tight\")\n",
    "    plt.show()"
   ]
  },
  {
   "cell_type": "code",
   "execution_count": 84,
   "metadata": {},
   "outputs": [],
   "source": [
    "def training(name, max_patience, num_epochs, model, optimizer, training_loader, val_loader):\n",
    "    nll_val = []\n",
    "    best_nll = 1000.\n",
    "    patience = 0\n",
    "\n",
    "    # Main loop\n",
    "    for e in range(num_epochs):\n",
    "        # TRAINING\n",
    "        model.train()\n",
    "        for indx_batch, batch in enumerate(training_loader):\n",
    "            loss = model.forward(batch)\n",
    "\n",
    "            optimizer.zero_grad()\n",
    "            loss.backward(retain_graph=True)\n",
    "            optimizer.step()\n",
    "\n",
    "        # Validation\n",
    "        loss_val = evaluation(val_loader, model_best=model, epoch=e)\n",
    "        nll_val.append(loss_val)  # save for plotting\n",
    "\n",
    "        if e == 0:\n",
    "            print(\"Saved!\")\n",
    "            torch.save(model, name + \".model\")\n",
    "            best_nll = loss_val\n",
    "        else:\n",
    "            if loss_val < best_nll:\n",
    "                print(\"Saved!\")\n",
    "                torch.save(model, name + \".model\")\n",
    "                best_nll = loss_val\n",
    "                patience = 0\n",
    "\n",
    "                samples_generated(name, val_loader, extra_name=\"_epoch_\" + str(e))\n",
    "            else:\n",
    "                patience = patience + 1\n",
    "\n",
    "        if patience > max_patience:\n",
    "            break\n",
    "\n",
    "    nll_val = np.asarray(nll_val)\n",
    "\n",
    "    return nll_val"
   ]
  },
  {
   "cell_type": "markdown",
   "metadata": {},
   "source": [
    "## Experiments"
   ]
  },
  {
   "cell_type": "markdown",
   "metadata": {},
   "source": [
    "### Initialize datasets"
   ]
  },
  {
   "cell_type": "code",
   "execution_count": 85,
   "metadata": {},
   "outputs": [],
   "source": [
    "transforms = tt.Lambda(lambda x: 2. * (x / 17.) - 1.)"
   ]
  },
  {
   "cell_type": "code",
   "execution_count": 86,
   "metadata": {},
   "outputs": [],
   "source": [
    "train_data = Digits(mode=\"train\", transforms=transforms)\n",
    "val_data = Digits(mode=\"val\", transforms=transforms)\n",
    "test_data = Digits(mode=\"test\", transforms=transforms)\n",
    "\n",
    "training_loader = DataLoader(train_data, batch_size=64, shuffle=True)\n",
    "val_loader = DataLoader(val_data, batch_size=64, shuffle=False)\n",
    "test_loader = DataLoader(test_data, batch_size=64, shuffle=False)"
   ]
  },
  {
   "cell_type": "markdown",
   "metadata": {},
   "source": [
    "### Hyperparameters"
   ]
  },
  {
   "cell_type": "code",
   "execution_count": 87,
   "metadata": {},
   "outputs": [],
   "source": [
    "D = 64   # input dimension\n",
    "M = 256  # the number of neurons in scale (s) and translation (t) nets\n",
    "T = 5\n",
    "beta = 0.9\n",
    "lr = 1e-3 # learning rate\n",
    "num_epochs = 1000 # max. number of epochs\n",
    "max_patience = 50 # an early stopping is used, if training doesn\"t improve for longer than 20 epochs, it is stopped\n"
   ]
  },
  {
   "cell_type": "code",
   "execution_count": 88,
   "metadata": {},
   "outputs": [],
   "source": [
    "model_name = f\"ddmg_{str(T)}_{str(beta)}\"\n",
    "(RESULTS_DIR / model_name).mkdir(parents=True, exist_ok=True)"
   ]
  },
  {
   "cell_type": "markdown",
   "metadata": {},
   "source": [
    "### Initializing the model"
   ]
  },
  {
   "cell_type": "code",
   "execution_count": 89,
   "metadata": {},
   "outputs": [],
   "source": [
    "p_dnns = [nn.Sequential(nn.Linear(D, M), nn.LeakyReLU(),\n",
    "                        nn.Linear(M, M), nn.LeakyReLU(),\n",
    "                        nn.Linear(M, M), nn.LeakyReLU(),\n",
    "                        nn.Linear(M, 2 * D)) for _ in range(T-1)]\n",
    "\n",
    "decoder_net = nn.Sequential(nn.Linear(D, M*2), nn.LeakyReLU(),\n",
    "                            nn.Linear(M*2, M*2), nn.LeakyReLU(),\n",
    "                            nn.Linear(M*2, M*2), nn.LeakyReLU(),\n",
    "                            nn.Linear(M*2, D), nn.Tanh())\n",
    "\n",
    "\n",
    "# Eventually, we initialize the full model\n",
    "model = DDGM(p_dnns, decoder_net, beta=beta, T=T, D=D)"
   ]
  },
  {
   "cell_type": "markdown",
   "metadata": {},
   "source": [
    "### Optimizer"
   ]
  },
  {
   "cell_type": "code",
   "execution_count": 90,
   "metadata": {},
   "outputs": [],
   "source": [
    "optimizer = torch.optim.Adamax([p for p in model.parameters() if p.requires_grad == True], lr=lr)"
   ]
  },
  {
   "cell_type": "markdown",
   "metadata": {},
   "source": [
    "### Training loop"
   ]
  },
  {
   "cell_type": "code",
   "execution_count": 91,
   "metadata": {},
   "outputs": [
    {
     "name": "stdout",
     "output_type": "stream",
     "text": [
      "Epoch: 0, val nll=154.2494224330357\n",
      "Saved!\n",
      "Epoch: 1, val nll=154.04039899553572\n",
      "Saved!\n"
     ]
    },
    {
     "data": {
      "image/png": "[encoded data removed]",
      "text/plain": [
       "<Figure size 432x288 with 16 Axes>"
      ]
     },
     "metadata": {
      "needs_background": "light"
     },
     "output_type": "display_data"
    },
    {
     "name": "stdout",
     "output_type": "stream",
     "text": [
      "Epoch: 2, val nll=154.82387137276785\n",
      "Epoch: 3, val nll=154.2244545200893\n",
      "Epoch: 4, val nll=154.13005580357142\n",
      "Epoch: 5, val nll=153.42605189732143\n",
      "Saved!\n"
     ]
    },
    {
     "data": {
      "image/png": "[encoded data removed]",
      "text/plain": [
       "<Figure size 432x288 with 16 Axes>"
      ]
     },
     "metadata": {
      "needs_background": "light"
     },
     "output_type": "display_data"
    },
    {
     "name": "stdout",
     "output_type": "stream",
     "text": [
      "Epoch: 6, val nll=153.39111607142857\n",
      "Saved!\n"
     ]
    },
    {
     "data": {
      "image/png": "[encoded data removed]",
      "text/plain": [
       "<Figure size 432x288 with 16 Axes>"
      ]
     },
     "metadata": {
      "needs_background": "light"
     },
     "output_type": "display_data"
    },
    {
     "name": "stdout",
     "output_type": "stream",
     "text": [
      "Epoch: 7, val nll=153.98531529017856\n",
      "Epoch: 8, val nll=153.82185825892856\n",
      "Epoch: 9, val nll=153.723046875\n",
      "Epoch: 10, val nll=152.7603208705357\n",
      "Saved!\n"
     ]
    },
    {
     "data": {
      "image/png": "[encoded data removed]",
      "text/plain": [
       "<Figure size 432x288 with 16 Axes>"
      ]
     },
     "metadata": {
      "needs_background": "light"
     },
     "output_type": "display_data"
    },
    {
     "name": "stdout",
     "output_type": "stream",
     "text": [
      "Epoch: 11, val nll=153.13586216517857\n",
      "Epoch: 12, val nll=154.4045033482143\n",
      "Epoch: 13, val nll=153.66334681919642\n",
      "Epoch: 14, val nll=153.98888392857143\n",
      "Epoch: 15, val nll=153.45564871651786\n",
      "Epoch: 16, val nll=153.36079241071428\n",
      "Epoch: 17, val nll=153.61396205357144\n",
      "Epoch: 18, val nll=153.181396484375\n",
      "Epoch: 19, val nll=152.99309430803572\n",
      "Epoch: 20, val nll=152.43171177455358\n",
      "Saved!\n"
     ]
    },
    {
     "data": {
      "image/png": "[encoded data removed]",
      "text/plain": [
       "<Figure size 432x288 with 16 Axes>"
      ]
     },
     "metadata": {
      "needs_background": "light"
     },
     "output_type": "display_data"
    },
    {
     "name": "stdout",
     "output_type": "stream",
     "text": [
      "Epoch: 21, val nll=153.6659765625\n",
      "Epoch: 22, val nll=152.67071149553573\n",
      "Epoch: 23, val nll=153.5391796875\n",
      "Epoch: 24, val nll=153.71445452008928\n",
      "Epoch: 25, val nll=153.26369419642856\n",
      "Epoch: 26, val nll=153.29292689732142\n",
      "Epoch: 27, val nll=153.48716517857142\n",
      "Epoch: 28, val nll=153.70462193080357\n",
      "Epoch: 29, val nll=152.94479073660713\n",
      "Epoch: 30, val nll=152.62651227678572\n",
      "Epoch: 31, val nll=153.85201032366072\n",
      "Epoch: 32, val nll=153.05695591517858\n",
      "Epoch: 33, val nll=153.17784458705358\n",
      "Epoch: 34, val nll=153.45566545758928\n",
      "Epoch: 35, val nll=153.02557198660713\n",
      "Epoch: 36, val nll=153.28645089285715\n",
      "Epoch: 37, val nll=153.3937025669643\n",
      "Epoch: 38, val nll=153.16205775669644\n",
      "Epoch: 39, val nll=153.5332631138393\n",
      "Epoch: 40, val nll=153.00181361607142\n",
      "Epoch: 41, val nll=152.10534598214286\n",
      "Saved!\n"
     ]
    },
    {
     "data": {
      "image/png": "[encoded data removed]",
      "text/plain": [
       "<Figure size 432x288 with 16 Axes>"
      ]
     },
     "metadata": {
      "needs_background": "light"
     },
     "output_type": "display_data"
    },
    {
     "name": "stdout",
     "output_type": "stream",
     "text": [
      "Epoch: 42, val nll=152.61385323660716\n",
      "Epoch: 43, val nll=153.12018136160714\n",
      "Epoch: 44, val nll=153.61923967633928\n",
      "Epoch: 45, val nll=153.107724609375\n",
      "Epoch: 46, val nll=152.93523018973215\n",
      "Epoch: 47, val nll=153.59328962053573\n",
      "Epoch: 48, val nll=153.26866629464286\n",
      "Epoch: 49, val nll=153.00033482142857\n",
      "Epoch: 50, val nll=153.64857979910715\n",
      "Epoch: 51, val nll=153.51838309151785\n",
      "Epoch: 52, val nll=153.5089536830357\n",
      "Epoch: 53, val nll=153.37793247767857\n",
      "Epoch: 54, val nll=153.46705775669642\n",
      "Epoch: 55, val nll=153.22699776785714\n",
      "Epoch: 56, val nll=153.39633510044644\n",
      "Epoch: 57, val nll=153.54752650669644\n",
      "Epoch: 58, val nll=153.42423828125\n",
      "Epoch: 59, val nll=153.19231863839286\n",
      "Epoch: 60, val nll=153.918388671875\n",
      "Epoch: 61, val nll=153.16374720982142\n",
      "Epoch: 62, val nll=152.80092354910715\n",
      "Epoch: 63, val nll=153.12095284598215\n",
      "Epoch: 64, val nll=153.348271484375\n",
      "Epoch: 65, val nll=153.75513811383928\n",
      "Epoch: 66, val nll=153.65839285714284\n",
      "Epoch: 67, val nll=153.5249986049107\n",
      "Epoch: 68, val nll=153.0674623325893\n",
      "Epoch: 69, val nll=152.71966796875\n",
      "Epoch: 70, val nll=152.8870005580357\n",
      "Epoch: 71, val nll=153.30843610491073\n",
      "Epoch: 72, val nll=153.62133091517856\n",
      "Epoch: 73, val nll=152.96234654017857\n",
      "Epoch: 74, val nll=153.4118638392857\n",
      "Epoch: 75, val nll=153.28668526785714\n",
      "Epoch: 76, val nll=152.79404994419642\n",
      "Epoch: 77, val nll=152.89758928571428\n",
      "Epoch: 78, val nll=152.88906529017856\n",
      "Epoch: 79, val nll=152.85564453125\n",
      "Epoch: 80, val nll=153.473583984375\n",
      "Epoch: 81, val nll=153.94046875\n",
      "Epoch: 82, val nll=153.78122488839287\n",
      "Epoch: 83, val nll=153.36775390625\n",
      "Epoch: 84, val nll=152.94050223214285\n",
      "Epoch: 85, val nll=152.7258677455357\n",
      "Epoch: 86, val nll=153.327138671875\n",
      "Epoch: 87, val nll=153.19012416294643\n",
      "Epoch: 88, val nll=153.0423618861607\n",
      "Epoch: 89, val nll=153.29079380580356\n",
      "Epoch: 90, val nll=153.51779994419644\n",
      "Epoch: 91, val nll=153.72714564732144\n",
      "Epoch: 92, val nll=153.411376953125\n"
     ]
    }
   ],
   "source": [
    "# Training procedure\n",
    "nll_val = training(name=str(RESULTS_DIR / model_name), \n",
    "                   max_patience=max_patience, \n",
    "                   num_epochs=num_epochs, \n",
    "                   model=model, \n",
    "                   optimizer=optimizer,\n",
    "                   training_loader=training_loader, \n",
    "                   val_loader=val_loader)"
   ]
  },
  {
   "cell_type": "markdown",
   "metadata": {},
   "source": [
    "## Evaluation"
   ]
  },
  {
   "cell_type": "code",
   "execution_count": 92,
   "metadata": {},
   "outputs": [
    {
     "name": "stdout",
     "output_type": "stream",
     "text": [
      "FINAL LOSS: nll=153.0186289674217\n"
     ]
    }
   ],
   "source": [
    "test_loss = evaluation(name=str(RESULTS_DIR / model_name), test_loader=test_loader)"
   ]
  },
  {
   "cell_type": "code",
   "execution_count": 93,
   "metadata": {},
   "outputs": [
    {
     "data": {
      "image/png": "[encoded data removed]",
      "text/plain": [
       "<Figure size 432x288 with 16 Axes>"
      ]
     },
     "metadata": {
      "needs_background": "light"
     },
     "output_type": "display_data"
    }
   ],
   "source": [
    "samples_real(str(RESULTS_DIR / model_name), test_loader)"
   ]
  },
  {
   "cell_type": "code",
   "execution_count": 94,
   "metadata": {},
   "outputs": [
    {
     "data": {
      "image/png": "[encoded data removed]",
      "text/plain": [
       "<Figure size 432x288 with 1 Axes>"
      ]
     },
     "metadata": {
      "needs_background": "light"
     },
     "output_type": "display_data"
    }
   ],
   "source": [
    "plot_curve(str(RESULTS_DIR / model_name), nll_val)"
   ]
  },
  {
   "cell_type": "code",
   "execution_count": 97,
   "metadata": {},
   "outputs": [
    {
     "data": {
      "image/png": "[encoded data removed]",
      "text/plain": [
       "<Figure size 432x288 with 16 Axes>"
      ]
     },
     "metadata": {
      "needs_background": "light"
     },
     "output_type": "display_data"
    }
   ],
   "source": [
    "samples_generated(str(RESULTS_DIR / model_name), test_loader, extra_name=\"final\")"
   ]
  },
  {
   "cell_type": "code",
   "execution_count": 96,
   "metadata": {},
   "outputs": [
    {
     "data": {
      "image/png": "[encoded data removed]",
      "text/plain": [
       "<Figure size 432x288 with 16 Axes>"
      ]
     },
     "metadata": {
      "needs_background": "light"
     },
     "output_type": "display_data"
    }
   ],
   "source": [
    "samples_diffusion(str(RESULTS_DIR / model_name), test_loader, extra_name=\"diffusion\")"
   ]
  },
  {
   "cell_type": "code",
   "execution_count": null,
   "metadata": {},
   "outputs": [],
   "source": []
  }
 ],
 "metadata": {
  "kernelspec": {
   "display_name": "opentrons_digits",
   "language": "python",
   "name": "opentrons_digits"
  },
  "language_info": {
   "codemirror_mode": {
    "name": "ipython",
    "version": 3
   },
   "file_extension": ".py",
   "mimetype": "text/x-python",
   "name": "python",
   "nbconvert_exporter": "python",
   "pygments_lexer": "ipython3",
   "version": "3.8.5"
  }
 },
 "nbformat": 4,
 "nbformat_minor": 4
}
